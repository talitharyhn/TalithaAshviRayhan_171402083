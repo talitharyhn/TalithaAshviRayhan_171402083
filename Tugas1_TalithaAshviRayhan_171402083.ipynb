{
 "cells": [
  {
   "cell_type": "code",
   "execution_count": 16,
   "metadata": {},
   "outputs": [
    {
     "name": "stdout",
     "output_type": "stream",
     "text": [
      "0\n",
      "1\n",
      "1\n",
      "2\n",
      "3\n",
      "5\n",
      "8\n",
      "13\n",
      "21\n"
     ]
    }
   ],
   "source": [
    "class Fibonacci:\n",
    "    def fr(n, m):  #urutan fibonacci yang ingin dicari\n",
    "        if m == 0:\n",
    "            return 0\n",
    "        elif m == 1:\n",
    "            return 1\n",
    "        else:\n",
    "            return n.fr(m-1) + n.fr(m-2)  #menambahkan hasil dari perhitungan sebelumnya\n",
    "\n",
    "f = Fibonacci()\n",
    "\n",
    "for i in range(9):\n",
    "    print(f.fr(i))  #menampilkan hasilnya"
   ]
  },
  {
   "cell_type": "code",
   "execution_count": null,
   "metadata": {},
   "outputs": [],
   "source": []
  }
 ],
 "metadata": {
  "kernelspec": {
   "display_name": "Python 3",
   "language": "python",
   "name": "python3"
  },
  "language_info": {
   "codemirror_mode": {
    "name": "ipython",
    "version": 3
   },
   "file_extension": ".py",
   "mimetype": "text/x-python",
   "name": "python",
   "nbconvert_exporter": "python",
   "pygments_lexer": "ipython3",
   "version": "3.7.2"
  }
 },
 "nbformat": 4,
 "nbformat_minor": 2
}
